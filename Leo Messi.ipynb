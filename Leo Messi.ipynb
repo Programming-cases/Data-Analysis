{
 "cells": [
  {
   "cell_type": "markdown",
   "metadata": {},
   "source": [
    "# Leo Messi: *his  performance  through  data*\n",
    "<br>\n",
    "Since his first appearance at Camp Nou being 17-year old child, Messi has become one of most football players in history, breaking his own performance ceiling match by match\n",   
    "The final analysis is done over the two tournaments he most plays:\n",
    "\n",
    "<a href=#1> La Liga </a>\n",
    "<br>\n",
    "<a href=#2> The Champions League </a>\n",
    "\n",
    "The dataset is available [here](https://data.world/datatouille/lionel-messi). <br>\n",
    "It is made in ***R***\n",
    "\n",
    "<img src=\"https://arc-anglerfish-arc2-prod-elcomercio.s3.amazonaws.com/public/Z3UBNWSKEJAH3MFV7NKWSGS2XE.jpg\" width=\"1000\" height=\"400\"/>\n",
    "\n",
    "\n",
    "\n",
    "\n"
   ]
  },
  {
   "cell_type": "code",
   "execution_count": 1,
   "metadata": {},
   "outputs": [
    {
     "data": {
      "text/html": [
       "<table>\n",
       "<thead><tr><th scope=col>Date</th><th scope=col>Competition.Name</th><th scope=col>Home.team</th><th scope=col>Opponent</th><th scope=col>Away.team</th><th scope=col>Minute</th><th scope=col>Score.Home.Team...When.Messi.Scored</th><th scope=col>Score.Away.Team...When.Messi.Scored</th><th scope=col>Goal.Type</th><th scope=col>Goal.Method</th><th scope=col>Final.Game.Result</th></tr></thead>\n",
       "<tbody>\n",
       "\t<tr><td>samedi 16 février 2019    </td><td>Liga                      </td><td>FC Barcelona              </td><td>Real Valladolid           </td><td>Real Valladolid           </td><td>43                        </td><td>1                         </td><td>0                         </td><td>Penalty                   </td><td>Left foot                 </td><td>Won                       </td></tr>\n",
       "\t<tr><td>dimanche 13 janvier 2019  </td><td>Liga                      </td><td>FC Barcelona              </td><td>Eibar                     </td><td>Eibar                     </td><td>53                        </td><td>2                         </td><td>0                         </td><td>Field goal                </td><td>Left foot                 </td><td>Won                       </td></tr>\n",
       "\t<tr><td>samedi 22 décembre 2018   </td><td>Liga                      </td><td>FC Barcelona              </td><td>Celta de Vigo             </td><td>Celta de Vigo             </td><td>45                        </td><td>2                         </td><td>0                         </td><td>Field goal                </td><td>Left foot                 </td><td>Won                       </td></tr>\n",
       "\t<tr><td>samedi 20 octobre 2018    </td><td>Liga                      </td><td>FC Barcelona              </td><td>Sevilla                   </td><td>Sevilla                   </td><td>12                        </td><td>2                         </td><td>0                         </td><td>Field goal                </td><td>Left foot                 </td><td>Won                       </td></tr>\n",
       "\t<tr><td>dimanche 23 septembre 2018</td><td>Liga                      </td><td>FC Barcelona              </td><td>Girona                    </td><td>Girona                    </td><td>19                        </td><td>1                         </td><td>0                         </td><td>Field goal                </td><td>Left foot                 </td><td>Draw                      </td></tr>\n",
       "\t<tr><td>samedi 18 août 2018       </td><td>Liga                      </td><td>FC Barcelona              </td><td>Alavés                    </td><td>Alavés                    </td><td>90+2                      </td><td>3                         </td><td>0                         </td><td>Field goal                </td><td>Left foot                 </td><td>Won                       </td></tr>\n",
       "</tbody>\n",
       "</table>\n"
      ],
      "text/latex": [
       "\\begin{tabular}{r|lllllllllll}\n",
       " Date & Competition.Name & Home.team & Opponent & Away.team & Minute & Score.Home.Team...When.Messi.Scored & Score.Away.Team...When.Messi.Scored & Goal.Type & Goal.Method & Final.Game.Result\\\\\n",
       "\\hline\n",
       "\t samedi 16 février 2019     & Liga                       & FC Barcelona               & Real Valladolid            & Real Valladolid            & 43                         & 1                          & 0                          & Penalty                    & Left foot                  & Won                       \\\\\n",
       "\t dimanche 13 janvier 2019   & Liga                       & FC Barcelona               & Eibar                      & Eibar                      & 53                         & 2                          & 0                          & Field goal                 & Left foot                  & Won                       \\\\\n",
       "\t samedi 22 décembre 2018    & Liga                       & FC Barcelona               & Celta de Vigo              & Celta de Vigo              & 45                         & 2                          & 0                          & Field goal                 & Left foot                  & Won                       \\\\\n",
       "\t samedi 20 octobre 2018     & Liga                       & FC Barcelona               & Sevilla                    & Sevilla                    & 12                         & 2                          & 0                          & Field goal                 & Left foot                  & Won                       \\\\\n",
       "\t dimanche 23 septembre 2018 & Liga                       & FC Barcelona               & Girona                     & Girona                     & 19                         & 1                          & 0                          & Field goal                 & Left foot                  & Draw                      \\\\\n",
       "\t samedi 18 août 2018        & Liga                       & FC Barcelona               & Alavés                     & Alavés                     & 90+2                       & 3                          & 0                          & Field goal                 & Left foot                  & Won                       \\\\\n",
       "\\end{tabular}\n"
      ],
      "text/markdown": [
       "\n",
       "| Date | Competition.Name | Home.team | Opponent | Away.team | Minute | Score.Home.Team...When.Messi.Scored | Score.Away.Team...When.Messi.Scored | Goal.Type | Goal.Method | Final.Game.Result |\n",
       "|---|---|---|---|---|---|---|---|---|---|---|\n",
       "| samedi 16 février 2019     | Liga                       | FC Barcelona               | Real Valladolid            | Real Valladolid            | 43                         | 1                          | 0                          | Penalty                    | Left foot                  | Won                        |\n",
       "| dimanche 13 janvier 2019   | Liga                       | FC Barcelona               | Eibar                      | Eibar                      | 53                         | 2                          | 0                          | Field goal                 | Left foot                  | Won                        |\n",
       "| samedi 22 décembre 2018    | Liga                       | FC Barcelona               | Celta de Vigo              | Celta de Vigo              | 45                         | 2                          | 0                          | Field goal                 | Left foot                  | Won                        |\n",
       "| samedi 20 octobre 2018     | Liga                       | FC Barcelona               | Sevilla                    | Sevilla                    | 12                         | 2                          | 0                          | Field goal                 | Left foot                  | Won                        |\n",
       "| dimanche 23 septembre 2018 | Liga                       | FC Barcelona               | Girona                     | Girona                     | 19                         | 1                          | 0                          | Field goal                 | Left foot                  | Draw                       |\n",
       "| samedi 18 août 2018        | Liga                       | FC Barcelona               | Alavés                     | Alavés                     | 90+2                       | 3                          | 0                          | Field goal                 | Left foot                  | Won                        |\n",
       "\n"
      ],
      "text/plain": [
       "  Date                       Competition.Name Home.team    Opponent       \n",
       "1 samedi 16 février 2019     Liga             FC Barcelona Real Valladolid\n",
       "2 dimanche 13 janvier 2019   Liga             FC Barcelona Eibar          \n",
       "3 samedi 22 décembre 2018    Liga             FC Barcelona Celta de Vigo  \n",
       "4 samedi 20 octobre 2018     Liga             FC Barcelona Sevilla        \n",
       "5 dimanche 23 septembre 2018 Liga             FC Barcelona Girona         \n",
       "6 samedi 18 août 2018        Liga             FC Barcelona Alavés         \n",
       "  Away.team       Minute Score.Home.Team...When.Messi.Scored\n",
       "1 Real Valladolid 43     1                                  \n",
       "2 Eibar           53     2                                  \n",
       "3 Celta de Vigo   45     2                                  \n",
       "4 Sevilla         12     2                                  \n",
       "5 Girona          19     1                                  \n",
       "6 Alavés          90+2   3                                  \n",
       "  Score.Away.Team...When.Messi.Scored Goal.Type  Goal.Method Final.Game.Result\n",
       "1 0                                   Penalty    Left foot   Won              \n",
       "2 0                                   Field goal Left foot   Won              \n",
       "3 0                                   Field goal Left foot   Won              \n",
       "4 0                                   Field goal Left foot   Won              \n",
       "5 0                                   Field goal Left foot   Draw             \n",
       "6 0                                   Field goal Left foot   Won              "
      ]
     },
     "metadata": {},
     "output_type": "display_data"
    }
   ],
   "source": [
    "data = read.csv('Lionel Messi Goals.csv',sep=';',stringsAsFactors = FALSE,na.strings = \"\")\n",
    "head(data)"
   ]
  },
  {
   "cell_type": "code",
   "execution_count": 2,
   "metadata": {},
   "outputs": [
    {
     "name": "stderr",
     "output_type": "stream",
     "text": [
      "Warning message:\n",
      "\"package 'dplyr' was built under R version 3.6.3\"\n",
      "Attaching package: 'dplyr'\n",
      "\n",
      "The following objects are masked from 'package:stats':\n",
      "\n",
      "    filter, lag\n",
      "\n",
      "The following objects are masked from 'package:base':\n",
      "\n",
      "    intersect, setdiff, setequal, union\n",
      "\n"
     ]
    }
   ],
   "source": [
    "library(dplyr)#to edit dataframe"
   ]
  },
  {
   "cell_type": "code",
   "execution_count": 3,
   "metadata": {},
   "outputs": [
    {
     "name": "stdout",
     "output_type": "stream",
     "text": [
      "Rows: 651\n",
      "Columns: 11\n",
      "$ Date                                <chr> \"samedi 16 février 2019\", \"dima...\n",
      "$ Competition.Name                    <chr> \"Liga\", \"Liga\", \"Liga\", \"Liga\",...\n",
      "$ Home.team                           <chr> \"FC Barcelona\", \"FC Barcelona\",...\n",
      "$ Opponent                            <chr> \"Real Valladolid\", \"Eibar\", \"Ce...\n",
      "$ Away.team                           <chr> \"Real Valladolid\", \"Eibar\", \"Ce...\n",
      "$ Minute                              <chr> \"43\", \"53\", \"45\", \"12\", \"19\", \"...\n",
      "$ Score.Home.Team...When.Messi.Scored <int> 1, 2, 2, 2, 1, 3, 1, 3, 2, 1, 2...\n",
      "$ Score.Away.Team...When.Messi.Scored <int> 0, 0, 0, 0, 0, 0, 0, 0, 0, 0, 0...\n",
      "$ Goal.Type                           <chr> \"Penalty\", \"Field goal\", \"Field...\n",
      "$ Goal.Method                         <chr> \"Left foot\", \"Left foot\", \"Left...\n",
      "$ Final.Game.Result                   <chr> \"Won\", \"Won\", \"Won\", \"Won\", \"Dr...\n"
     ]
    }
   ],
   "source": [
    "glimpse(data)"
   ]
  },
  {
   "cell_type": "markdown",
   "metadata": {},
   "source": [
    "Number of instances and attributes:"
   ]
  },
  {
   "cell_type": "code",
   "execution_count": 4,
   "metadata": {},
   "outputs": [
    {
     "data": {
      "text/html": [
       "<ol class=list-inline>\n",
       "\t<li>651</li>\n",
       "\t<li>11</li>\n",
       "</ol>\n"
      ],
      "text/latex": [
       "\\begin{enumerate*}\n",
       "\\item 651\n",
       "\\item 11\n",
       "\\end{enumerate*}\n"
      ],
      "text/markdown": [
       "1. 651\n",
       "2. 11\n",
       "\n",
       "\n"
      ],
      "text/plain": [
       "[1] 651  11"
      ]
     },
     "metadata": {},
     "output_type": "display_data"
    }
   ],
   "source": [
    "dim(data)"
   ]
  },
  {
   "cell_type": "code",
   "execution_count": 5,
   "metadata": {},
   "outputs": [
    {
     "data": {
      "text/html": [
       "<ol class=list-inline>\n",
       "\t<li>'Date'</li>\n",
       "\t<li>'Competition.Name'</li>\n",
       "\t<li>'Home.team'</li>\n",
       "\t<li>'Opponent'</li>\n",
       "\t<li>'Away.team'</li>\n",
       "\t<li>'Minute'</li>\n",
       "\t<li>'Score.Home.Team'</li>\n",
       "\t<li>'Score.Away.Team'</li>\n",
       "\t<li>'Goal.Type'</li>\n",
       "\t<li>'Goal.Method'</li>\n",
       "\t<li>'Final.Game.Result'</li>\n",
       "</ol>\n"
      ],
      "text/latex": [
       "\\begin{enumerate*}\n",
       "\\item 'Date'\n",
       "\\item 'Competition.Name'\n",
       "\\item 'Home.team'\n",
       "\\item 'Opponent'\n",
       "\\item 'Away.team'\n",
       "\\item 'Minute'\n",
       "\\item 'Score.Home.Team'\n",
       "\\item 'Score.Away.Team'\n",
       "\\item 'Goal.Type'\n",
       "\\item 'Goal.Method'\n",
       "\\item 'Final.Game.Result'\n",
       "\\end{enumerate*}\n"
      ],
      "text/markdown": [
       "1. 'Date'\n",
       "2. 'Competition.Name'\n",
       "3. 'Home.team'\n",
       "4. 'Opponent'\n",
       "5. 'Away.team'\n",
       "6. 'Minute'\n",
       "7. 'Score.Home.Team'\n",
       "8. 'Score.Away.Team'\n",
       "9. 'Goal.Type'\n",
       "10. 'Goal.Method'\n",
       "11. 'Final.Game.Result'\n",
       "\n",
       "\n"
      ],
      "text/plain": [
       " [1] \"Date\"              \"Competition.Name\"  \"Home.team\"        \n",
       " [4] \"Opponent\"          \"Away.team\"         \"Minute\"           \n",
       " [7] \"Score.Home.Team\"   \"Score.Away.Team\"   \"Goal.Type\"        \n",
       "[10] \"Goal.Method\"       \"Final.Game.Result\""
      ]
     },
     "metadata": {},
     "output_type": "display_data"
    }
   ],
   "source": [
    "colnames(data)[7:8] <- c('Score.Home.Team','Score.Away.Team')\n",
    "colnames(data)"
   ]
  },
  {
   "cell_type": "markdown",
   "metadata": {},
   "source": [
    "Asking whether there are NA values:"
   ]
  },
  {
   "cell_type": "code",
   "execution_count": 6,
   "metadata": {},
   "outputs": [
    {
     "name": "stdout",
     "output_type": "stream",
     "text": [
      "[1] \"Date : FALSE\"\n",
      "[1] \"Competition.Name : TRUE\"\n",
      "[1] \"Home.team : FALSE\"\n",
      "[1] \"Opponent : FALSE\"\n",
      "[1] \"Away.team : FALSE\"\n",
      "[1] \"Minute : FALSE\"\n",
      "[1] \"Score.Home.Team : FALSE\"\n",
      "[1] \"Score.Away.Team : FALSE\"\n",
      "[1] \"Goal.Type : TRUE\"\n",
      "[1] \"Goal.Method : FALSE\"\n",
      "[1] \"Final.Game.Result : FALSE\"\n"
     ]
    }
   ],
   "source": [
    "attrs <- colnames(data)\n",
    "for(attr in attrs) { sentence <-any(is.na(data[attr]))\n",
    "                     print(paste(attr,':',sentence))}"
   ]
  },
  {
   "cell_type": "markdown",
   "metadata": {},
   "source": [
    "Another way:"
   ]
  },
  {
   "cell_type": "code",
   "execution_count": 7,
   "metadata": {},
   "outputs": [
    {
     "name": "stderr",
     "output_type": "stream",
     "text": [
      "Warning message:\n",
      "\"package 'skimr' was built under R version 3.6.3\""
     ]
    }
   ],
   "source": [
    "library(skimr)#to resume dataframes"
   ]
  },
  {
   "cell_type": "code",
   "execution_count": 8,
   "metadata": {},
   "outputs": [
    {
     "name": "stdout",
     "output_type": "stream",
     "text": [
      "-- Data Summary ------------------------\n",
      "                           Values\n",
      "Name                       data  \n",
      "Number of rows             651   \n",
      "Number of columns          11    \n",
      "_______________________          \n",
      "Column type frequency:           \n",
      "  character                9     \n",
      "  numeric                  2     \n",
      "________________________         \n",
      "Group variables            None  \n",
      "\n",
      "-- Variable type: character ----------------------------------------------------\n",
      "# A tibble: 9 x 8\n",
      "  skim_variable     n_missing complete_rate   min   max empty n_unique\n",
      "* <chr>                 <int>         <dbl> <int> <int> <int>    <int>\n",
      "1 Date                      0         1        16    26     0      419\n",
      "2 Competition.Name        122         0.813     4    16     0        4\n",
      "3 Home.team                 0         1         4    22     0       78\n",
      "4 Opponent                  0         1         4    24     0      103\n",
      "5 Away.team                 0         1         4    24     0       85\n",
      "6 Minute                    0         1         1     4     0       96\n",
      "7 Goal.Type               311         0.522     7    10     0        5\n",
      "8 Goal.Method               0         1         3    10     0        6\n",
      "9 Final.Game.Result         0         1         3     4     0        3\n",
      "  whitespace\n",
      "*      <int>\n",
      "1          0\n",
      "2          0\n",
      "3          0\n",
      "4          0\n",
      "5          0\n",
      "6          0\n",
      "7          0\n",
      "8          0\n",
      "9          0\n",
      "\n",
      "-- Variable type: numeric ------------------------------------------------------\n",
      "# A tibble: 2 x 11\n",
      "  skim_variable   n_missing complete_rate  mean    sd    p0   p25   p50   p75\n",
      "* <chr>               <int>         <dbl> <dbl> <dbl> <dbl> <dbl> <dbl> <dbl>\n",
      "1 Score.Home.Team         0             1  1.63  1.50     0     0     1     2\n",
      "2 Score.Away.Team         0             1  1.13  1.30     0     0     1     2\n",
      "   p100 hist \n",
      "* <dbl> <chr>\n",
      "1     8 <U+2587><U+2585><U+2581><U+2581><U+2581>\n",
      "2     7 <U+2587><U+2582><U+2581><U+2581><U+2581>\n"
     ]
    }
   ],
   "source": [
    "skim(data)"
   ]
  },
  {
   "cell_type": "markdown",
   "metadata": {},
   "source": [
    "Selecting day of the week, number of day, month and year:"
   ]
  },
  {
   "cell_type": "code",
   "execution_count": 9,
   "metadata": {},
   "outputs": [],
   "source": [
    "library(stringr)"
   ]
  },
  {
   "cell_type": "code",
   "execution_count": 10,
   "metadata": {},
   "outputs": [],
   "source": [
    "data$Date<- str_split(data$Date,' ')"
   ]
  },
  {
   "cell_type": "code",
   "execution_count": 11,
   "metadata": {},
   "outputs": [],
   "source": [
    "day <- list()\n",
    "n_day <- list()\n",
    "month <- list()\n",
    "year <- list()\n",
    "for(index in 1:dim(data)[1]){day[index] <-   data$Date[[index]][1]\n",
    "                             n_day[index] <- data$Date[[index]][2] \n",
    "                             month[index] <- data$Date[[index]][3]\n",
    "                             year[index] <-  data$Date[[index]][4]}\n",
    "data <- data %>% mutate(day = unlist(day),n_day= unlist(n_day),\n",
    "                        month = unlist(month),year= unlist(year))"
   ]
  },
  {
   "cell_type": "code",
   "execution_count": 12,
   "metadata": {},
   "outputs": [],
   "source": [
    "data$Date <- NULL"
   ]
  },
  {
   "cell_type": "markdown",
   "metadata": {},
   "source": [
    "Translating *days* and *months* into English"
   ]
  },
  {
   "cell_type": "code",
   "execution_count": 13,
   "metadata": {},
   "outputs": [],
   "source": [
    "unique_days <-unique(data$day)\n",
    "unique_months <-unique(data$month)\n",
    "days <- c('Saturday','Sunday','Wednesday','Thuesday','Monday','Thursday','Friday')\n",
    "month <- c('February','January','December','October','September','August','May','April','March',\n",
    "           'November','June','July')\n",
    "for(index in 1:dim(data)[1]){index_day <- which(data$day[index]==unique_days)\n",
    "                             data$day[index] <- days[index_day]\n",
    "                             index_month <- which(data$month[index]==unique_months)\n",
    "                             data$month[index]<- month[index_month]}"
   ]
  },
  {
   "cell_type": "markdown",
   "metadata": {},
   "source": [
    "Editing additional minutes "
   ]
  },
  {
   "cell_type": "code",
   "execution_count": 14,
   "metadata": {},
   "outputs": [],
   "source": [
    "indexes_plus <-str_which(data$Minute,'[+]')\n",
    "minutes_edited <- str_split(data$Minute[indexes_plus],'[+]')\n",
    "for(i in 1:length(minutes_edited)){min <- as.numeric(minutes_edited[[i]][1])\n",
    "                                   add <- as.numeric(minutes_edited[[i]][2])\n",
    "                                   minutes_edited[i] <- min + add}\n",
    "minutes_edited <- unlist(minutes_edited)"
   ]
  },
  {
   "cell_type": "code",
   "execution_count": 15,
   "metadata": {},
   "outputs": [],
   "source": [
    "data$Minute[indexes_plus]<- minutes_edited\n",
    "data$Minute <- as.numeric(data$Minute)"
   ]
  },
  {
   "cell_type": "code",
   "execution_count": 16,
   "metadata": {
    "scrolled": false
   },
   "outputs": [
    {
     "data": {
      "text/html": [
       "<table>\n",
       "<thead><tr><th scope=col>Competition.Name</th><th scope=col>Home.team</th><th scope=col>Opponent</th><th scope=col>Away.team</th><th scope=col>Minute</th><th scope=col>Score.Home.Team</th><th scope=col>Score.Away.Team</th><th scope=col>Goal.Type</th><th scope=col>Goal.Method</th><th scope=col>Final.Game.Result</th><th scope=col>day</th><th scope=col>n_day</th><th scope=col>month</th><th scope=col>year</th></tr></thead>\n",
       "<tbody>\n",
       "\t<tr><td>Liga           </td><td>FC Barcelona   </td><td>Real Valladolid</td><td>Real Valladolid</td><td>43             </td><td>1              </td><td>0              </td><td>Penalty        </td><td>Left foot      </td><td>Won            </td><td>Saturday       </td><td>16             </td><td>February       </td><td>2019           </td></tr>\n",
       "\t<tr><td>Liga           </td><td>FC Barcelona   </td><td>Eibar          </td><td>Eibar          </td><td>53             </td><td>2              </td><td>0              </td><td>Field goal     </td><td>Left foot      </td><td>Won            </td><td>Sunday         </td><td>13             </td><td>January        </td><td>2019           </td></tr>\n",
       "\t<tr><td>Liga           </td><td>FC Barcelona   </td><td>Celta de Vigo  </td><td>Celta de Vigo  </td><td>45             </td><td>2              </td><td>0              </td><td>Field goal     </td><td>Left foot      </td><td>Won            </td><td>Saturday       </td><td>22             </td><td>December       </td><td>2018           </td></tr>\n",
       "\t<tr><td>Liga           </td><td>FC Barcelona   </td><td>Sevilla        </td><td>Sevilla        </td><td>12             </td><td>2              </td><td>0              </td><td>Field goal     </td><td>Left foot      </td><td>Won            </td><td>Saturday       </td><td>20             </td><td>October        </td><td>2018           </td></tr>\n",
       "\t<tr><td>Liga           </td><td>FC Barcelona   </td><td>Girona         </td><td>Girona         </td><td>19             </td><td>1              </td><td>0              </td><td>Field goal     </td><td>Left foot      </td><td>Draw           </td><td>Sunday         </td><td>23             </td><td>September      </td><td>2018           </td></tr>\n",
       "\t<tr><td>Liga           </td><td>FC Barcelona   </td><td>Alavés         </td><td>Alavés         </td><td>92             </td><td>3              </td><td>0              </td><td>Field goal     </td><td>Left foot      </td><td>Won            </td><td>Saturday       </td><td>18             </td><td>August         </td><td>2018           </td></tr>\n",
       "</tbody>\n",
       "</table>\n"
      ],
      "text/latex": [
       "\\begin{tabular}{r|llllllllllllll}\n",
       " Competition.Name & Home.team & Opponent & Away.team & Minute & Score.Home.Team & Score.Away.Team & Goal.Type & Goal.Method & Final.Game.Result & day & n\\_day & month & year\\\\\n",
       "\\hline\n",
       "\t Liga            & FC Barcelona    & Real Valladolid & Real Valladolid & 43              & 1               & 0               & Penalty         & Left foot       & Won             & Saturday        & 16              & February        & 2019           \\\\\n",
       "\t Liga            & FC Barcelona    & Eibar           & Eibar           & 53              & 2               & 0               & Field goal      & Left foot       & Won             & Sunday          & 13              & January         & 2019           \\\\\n",
       "\t Liga            & FC Barcelona    & Celta de Vigo   & Celta de Vigo   & 45              & 2               & 0               & Field goal      & Left foot       & Won             & Saturday        & 22              & December        & 2018           \\\\\n",
       "\t Liga            & FC Barcelona    & Sevilla         & Sevilla         & 12              & 2               & 0               & Field goal      & Left foot       & Won             & Saturday        & 20              & October         & 2018           \\\\\n",
       "\t Liga            & FC Barcelona    & Girona          & Girona          & 19              & 1               & 0               & Field goal      & Left foot       & Draw            & Sunday          & 23              & September       & 2018           \\\\\n",
       "\t Liga            & FC Barcelona    & Alavés          & Alavés          & 92              & 3               & 0               & Field goal      & Left foot       & Won             & Saturday        & 18              & August          & 2018           \\\\\n",
       "\\end{tabular}\n"
      ],
      "text/markdown": [
       "\n",
       "| Competition.Name | Home.team | Opponent | Away.team | Minute | Score.Home.Team | Score.Away.Team | Goal.Type | Goal.Method | Final.Game.Result | day | n_day | month | year |\n",
       "|---|---|---|---|---|---|---|---|---|---|---|---|---|---|\n",
       "| Liga            | FC Barcelona    | Real Valladolid | Real Valladolid | 43              | 1               | 0               | Penalty         | Left foot       | Won             | Saturday        | 16              | February        | 2019            |\n",
       "| Liga            | FC Barcelona    | Eibar           | Eibar           | 53              | 2               | 0               | Field goal      | Left foot       | Won             | Sunday          | 13              | January         | 2019            |\n",
       "| Liga            | FC Barcelona    | Celta de Vigo   | Celta de Vigo   | 45              | 2               | 0               | Field goal      | Left foot       | Won             | Saturday        | 22              | December        | 2018            |\n",
       "| Liga            | FC Barcelona    | Sevilla         | Sevilla         | 12              | 2               | 0               | Field goal      | Left foot       | Won             | Saturday        | 20              | October         | 2018            |\n",
       "| Liga            | FC Barcelona    | Girona          | Girona          | 19              | 1               | 0               | Field goal      | Left foot       | Draw            | Sunday          | 23              | September       | 2018            |\n",
       "| Liga            | FC Barcelona    | Alavés          | Alavés          | 92              | 3               | 0               | Field goal      | Left foot       | Won             | Saturday        | 18              | August          | 2018            |\n",
       "\n"
      ],
      "text/plain": [
       "  Competition.Name Home.team    Opponent        Away.team       Minute\n",
       "1 Liga             FC Barcelona Real Valladolid Real Valladolid 43    \n",
       "2 Liga             FC Barcelona Eibar           Eibar           53    \n",
       "3 Liga             FC Barcelona Celta de Vigo   Celta de Vigo   45    \n",
       "4 Liga             FC Barcelona Sevilla         Sevilla         12    \n",
       "5 Liga             FC Barcelona Girona          Girona          19    \n",
       "6 Liga             FC Barcelona Alavés          Alavés          92    \n",
       "  Score.Home.Team Score.Away.Team Goal.Type  Goal.Method Final.Game.Result\n",
       "1 1               0               Penalty    Left foot   Won              \n",
       "2 2               0               Field goal Left foot   Won              \n",
       "3 2               0               Field goal Left foot   Won              \n",
       "4 2               0               Field goal Left foot   Won              \n",
       "5 1               0               Field goal Left foot   Draw             \n",
       "6 3               0               Field goal Left foot   Won              \n",
       "  day      n_day month     year\n",
       "1 Saturday 16    February  2019\n",
       "2 Sunday   13    January   2019\n",
       "3 Saturday 22    December  2018\n",
       "4 Saturday 20    October   2018\n",
       "5 Sunday   23    September 2018\n",
       "6 Saturday 18    August    2018"
      ]
     },
     "metadata": {},
     "output_type": "display_data"
    }
   ],
   "source": [
    "head(data)"
   ]
  },
  {
   "cell_type": "markdown",
   "metadata": {},
   "source": [
    "Packages:"
   ]
  },
  {
   "cell_type": "code",
   "execution_count": 17,
   "metadata": {},
   "outputs": [
    {
     "name": "stderr",
     "output_type": "stream",
     "text": [
      "Warning message:\n",
      "\"package 'ggplot2' was built under R version 3.6.3\"Warning message:\n",
      "\"package 'ggthemes' was built under R version 3.6.3\"Warning message:\n",
      "\"package 'extrafont' was built under R version 3.6.2\"Registering fonts with R\n",
      "Warning message:\n",
      "\"package 'party' was built under R version 3.6.3\"Loading required package: grid\n",
      "Loading required package: mvtnorm\n",
      "Warning message:\n",
      "\"package 'mvtnorm' was built under R version 3.6.3\"Loading required package: modeltools\n",
      "Warning message:\n",
      "\"package 'modeltools' was built under R version 3.6.3\"Loading required package: stats4\n",
      "Loading required package: strucchange\n",
      "Warning message:\n",
      "\"package 'strucchange' was built under R version 3.6.3\"Loading required package: zoo\n",
      "Warning message:\n",
      "\"package 'zoo' was built under R version 3.6.3\"\n",
      "Attaching package: 'zoo'\n",
      "\n",
      "The following objects are masked from 'package:base':\n",
      "\n",
      "    as.Date, as.Date.numeric\n",
      "\n",
      "Loading required package: sandwich\n",
      "Warning message:\n",
      "\"package 'sandwich' was built under R version 3.6.3\"\n",
      "Attaching package: 'strucchange'\n",
      "\n",
      "The following object is masked from 'package:stringr':\n",
      "\n",
      "    boundary\n",
      "\n"
     ]
    }
   ],
   "source": [
    "library(ggplot2)#to get elegant graphs\n",
    "library(ggthemes)#to add extra backgrounds\n",
    "library(extrafont)# to add more types of fonts\n",
    "#font_import()\n",
    "#loadfonts(device = \"win\")\n",
    "library(party)# to apply decision trees\n",
    "library(repr)"
   ]
  },
  {
   "cell_type": "markdown",
   "metadata": {},
   "source": [
    "# Goals per competition"
   ]
  },
  {
   "cell_type": "code",
   "execution_count": 18,
   "metadata": {},
   "outputs": [],
   "source": [
    "competition<-table(data$Competition.Name,exclude = NULL)\n",
    "rownames(competition)[5] <- 'Unknown'\n",
    "df_competition <- data.frame(competition)\n",
    "colnames(df_competition) <- c('Competition','Goals')\n",
    "df_competition = arrange(df_competition,desc(Competition))\n",
    "df_competition$porcentage <- round(df_competition$Goals*100/sum(df_competition$Goals))\n",
    "df_competition$position = cumsum(df_competition$porcentage) - df_competition$porcentage/2\n",
    "df_competition$label <- paste(df_competition$porcentage,\"%\")"
   ]
  },
  {
   "cell_type": "code",
   "execution_count": 19,
   "metadata": {},
   "outputs": [
    {
     "data": {
      "image/png": "[encoded data removed]",
      "text/plain": [
       "plot without title"
      ]
     },
     "metadata": {},
     "output_type": "display_data"
    }
   ],
   "source": [
    "options(repr.plot.width=6,repr.plot.height=3.5)\n",
    "ggplot(df_competition) + geom_bar(aes(x=\"\",y=porcentage,fill=Competition),col='white',stat =\"identity\") +\n",
    "coord_polar(theta='y',start=0) + theme_void() + ggtitle('Goals per competition') + \n",
    "theme(plot.title= element_text(hjust = 0.5,face = 'bold',family='Segoe Script',size=13),\n",
    "      text=element_text(size=12,family='MV Boli')) +\n",
    "geom_text(aes(x=1.6,y = position , label = label), col='black',size=3.2,fontface =2,family='Calibri') +\n",
    "geom_segment(aes(x = 1.445, y = position, xend = 1.47, yend = position)) +\n",
    "scale_fill_brewer(palette='Set2') + theme(legend.title=element_blank())"
   ]
  },
  {
   "cell_type": "markdown",
   "metadata": {},
   "source": [
    "# Goals per year"
   ]
  },
  {
   "cell_type": "code",
   "execution_count": 20,
   "metadata": {},
   "outputs": [],
   "source": [
    "years <- table(data$year)\n",
    "df_years <- data.frame(years)\n",
    "colnames(df_years) <- c('Year','Goals')"
   ]
  },
  {
   "cell_type": "code",
   "execution_count": 21,
   "metadata": {},
   "outputs": [
    {
     "data": {
      "image/png": "[encoded data removed]",
      "text/plain": [
       "plot without title"
      ]
     },
     "metadata": {},
     "output_type": "display_data"
    }
   ],
   "source": [
    "options(repr.plot.width=8,repr.plot.height=2.75)\n",
    "ggplot(df_years) + geom_bar(aes(x=Year,y=Goals),stat = 'identity',fill= 'deepskyblue',col='dodgerblue4',width=.55) +\n",
    "theme(plot.title= element_text(hjust = 0.5,face = 'bold',family = 'Segoe Script',size=13)) +\n",
    "labs(title='Goals per year',x='') + theme_hc()"
   ]
  },
  {
   "cell_type": "markdown",
   "metadata": {},
   "source": [
    "- The high performance of Messi has been since 2007\n",
    "- His top level was in 2012"
   ]
  },
  {
   "cell_type": "markdown",
   "metadata": {},
   "source": [
    "<div id=\"1\">       </div>\n",
    "\n",
    "# Performance in La Liga\n",
    "![](http://7sport.cz/wp-content/uploads/2017/10/La-Liga_2017-2018-program-a-rozpis-zapasu.png)\n",
    "<br>\n",
    "<br>\n",
    "Seeing as the all clubs that appear whose competition name is `Unknown` correspond to spanish first division (*La Liga*).  \n",
    "Therefore I'm including those data with the data corresponding to `Liga`."
   ]
  },
  {
   "cell_type": "code",
   "execution_count": 22,
   "metadata": {},
   "outputs": [],
   "source": [
    "liga <- filter(data,Competition.Name == 'Liga' | Competition.Name == 'Unknown')"
   ]
  },
  {
   "cell_type": "code",
   "execution_count": 23,
   "metadata": {},
   "outputs": [
    {
     "data": {
      "text/html": [
       "<table>\n",
       "<thead><tr><th scope=col>Competition.Name</th><th scope=col>Home.team</th><th scope=col>Opponent</th><th scope=col>Away.team</th><th scope=col>Minute</th><th scope=col>Score.Home.Team</th><th scope=col>Score.Away.Team</th><th scope=col>Goal.Type</th><th scope=col>Goal.Method</th><th scope=col>Final.Game.Result</th><th scope=col>day</th><th scope=col>n_day</th><th scope=col>month</th><th scope=col>year</th></tr></thead>\n",
       "<tbody>\n",
       "\t<tr><td>Liga           </td><td>FC Barcelona   </td><td>Real Valladolid</td><td>Real Valladolid</td><td>43             </td><td>1              </td><td>0              </td><td>Penalty        </td><td>Left foot      </td><td>Won            </td><td>Saturday       </td><td>16             </td><td>February       </td><td>2019           </td></tr>\n",
       "\t<tr><td>Liga           </td><td>FC Barcelona   </td><td>Eibar          </td><td>Eibar          </td><td>53             </td><td>2              </td><td>0              </td><td>Field goal     </td><td>Left foot      </td><td>Won            </td><td>Sunday         </td><td>13             </td><td>January        </td><td>2019           </td></tr>\n",
       "\t<tr><td>Liga           </td><td>FC Barcelona   </td><td>Celta de Vigo  </td><td>Celta de Vigo  </td><td>45             </td><td>2              </td><td>0              </td><td>Field goal     </td><td>Left foot      </td><td>Won            </td><td>Saturday       </td><td>22             </td><td>December       </td><td>2018           </td></tr>\n",
       "\t<tr><td>Liga           </td><td>FC Barcelona   </td><td>Sevilla        </td><td>Sevilla        </td><td>12             </td><td>2              </td><td>0              </td><td>Field goal     </td><td>Left foot      </td><td>Won            </td><td>Saturday       </td><td>20             </td><td>October        </td><td>2018           </td></tr>\n",
       "\t<tr><td>Liga           </td><td>FC Barcelona   </td><td>Girona         </td><td>Girona         </td><td>19             </td><td>1              </td><td>0              </td><td>Field goal     </td><td>Left foot      </td><td>Draw           </td><td>Sunday         </td><td>23             </td><td>September      </td><td>2018           </td></tr>\n",
       "\t<tr><td>Liga           </td><td>FC Barcelona   </td><td>Alavés         </td><td>Alavés         </td><td>92             </td><td>3              </td><td>0              </td><td>Field goal     </td><td>Left foot      </td><td>Won            </td><td>Saturday       </td><td>18             </td><td>August         </td><td>2018           </td></tr>\n",
       "</tbody>\n",
       "</table>\n"
      ],
      "text/latex": [
       "\\begin{tabular}{r|llllllllllllll}\n",
       " Competition.Name & Home.team & Opponent & Away.team & Minute & Score.Home.Team & Score.Away.Team & Goal.Type & Goal.Method & Final.Game.Result & day & n\\_day & month & year\\\\\n",
       "\\hline\n",
       "\t Liga            & FC Barcelona    & Real Valladolid & Real Valladolid & 43              & 1               & 0               & Penalty         & Left foot       & Won             & Saturday        & 16              & February        & 2019           \\\\\n",
       "\t Liga            & FC Barcelona    & Eibar           & Eibar           & 53              & 2               & 0               & Field goal      & Left foot       & Won             & Sunday          & 13              & January         & 2019           \\\\\n",
       "\t Liga            & FC Barcelona    & Celta de Vigo   & Celta de Vigo   & 45              & 2               & 0               & Field goal      & Left foot       & Won             & Saturday        & 22              & December        & 2018           \\\\\n",
       "\t Liga            & FC Barcelona    & Sevilla         & Sevilla         & 12              & 2               & 0               & Field goal      & Left foot       & Won             & Saturday        & 20              & October         & 2018           \\\\\n",
       "\t Liga            & FC Barcelona    & Girona          & Girona          & 19              & 1               & 0               & Field goal      & Left foot       & Draw            & Sunday          & 23              & September       & 2018           \\\\\n",
       "\t Liga            & FC Barcelona    & Alavés          & Alavés          & 92              & 3               & 0               & Field goal      & Left foot       & Won             & Saturday        & 18              & August          & 2018           \\\\\n",
       "\\end{tabular}\n"
      ],
      "text/markdown": [
       "\n",
       "| Competition.Name | Home.team | Opponent | Away.team | Minute | Score.Home.Team | Score.Away.Team | Goal.Type | Goal.Method | Final.Game.Result | day | n_day | month | year |\n",
       "|---|---|---|---|---|---|---|---|---|---|---|---|---|---|\n",
       "| Liga            | FC Barcelona    | Real Valladolid | Real Valladolid | 43              | 1               | 0               | Penalty         | Left foot       | Won             | Saturday        | 16              | February        | 2019            |\n",
       "| Liga            | FC Barcelona    | Eibar           | Eibar           | 53              | 2               | 0               | Field goal      | Left foot       | Won             | Sunday          | 13              | January         | 2019            |\n",
       "| Liga            | FC Barcelona    | Celta de Vigo   | Celta de Vigo   | 45              | 2               | 0               | Field goal      | Left foot       | Won             | Saturday        | 22              | December        | 2018            |\n",
       "| Liga            | FC Barcelona    | Sevilla         | Sevilla         | 12              | 2               | 0               | Field goal      | Left foot       | Won             | Saturday        | 20              | October         | 2018            |\n",
       "| Liga            | FC Barcelona    | Girona          | Girona          | 19              | 1               | 0               | Field goal      | Left foot       | Draw            | Sunday          | 23              | September       | 2018            |\n",
       "| Liga            | FC Barcelona    | Alavés          | Alavés          | 92              | 3               | 0               | Field goal      | Left foot       | Won             | Saturday        | 18              | August          | 2018            |\n",
       "\n"
      ],
      "text/plain": [
       "  Competition.Name Home.team    Opponent        Away.team       Minute\n",
       "1 Liga             FC Barcelona Real Valladolid Real Valladolid 43    \n",
       "2 Liga             FC Barcelona Eibar           Eibar           53    \n",
       "3 Liga             FC Barcelona Celta de Vigo   Celta de Vigo   45    \n",
       "4 Liga             FC Barcelona Sevilla         Sevilla         12    \n",
       "5 Liga             FC Barcelona Girona          Girona          19    \n",
       "6 Liga             FC Barcelona Alavés          Alavés          92    \n",
       "  Score.Home.Team Score.Away.Team Goal.Type  Goal.Method Final.Game.Result\n",
       "1 1               0               Penalty    Left foot   Won              \n",
       "2 2               0               Field goal Left foot   Won              \n",
       "3 2               0               Field goal Left foot   Won              \n",
       "4 2               0               Field goal Left foot   Won              \n",
       "5 1               0               Field goal Left foot   Draw             \n",
       "6 3               0               Field goal Left foot   Won              \n",
       "  day      n_day month     year\n",
       "1 Saturday 16    February  2019\n",
       "2 Sunday   13    January   2019\n",
       "3 Saturday 22    December  2018\n",
       "4 Saturday 20    October   2018\n",
       "5 Sunday   23    September 2018\n",
       "6 Saturday 18    August    2018"
      ]
     },
     "metadata": {},
     "output_type": "display_data"
    }
   ],
   "source": [
    "head(liga)"
   ]
  },
  {
   "cell_type": "markdown",
   "metadata": {},
   "source": [
    "### Goals scored per club "
   ]
  },
  {
   "cell_type": "code",
   "execution_count": 24,
   "metadata": {},
   "outputs": [],
   "source": [
    "clubs_laliga <- data.frame(sort(table(liga$Opponent),decreasing = T))\n",
    "colnames(clubs_laliga) <- c('Club','Goals')"
   ]
  },
  {
   "cell_type": "code",
   "execution_count": 25,
   "metadata": {},
   "outputs": [
    {
     "data": {
      "image/png": "[encoded data removed]",
      "text/plain": [
       "plot without title"
      ]
     },
     "metadata": {},
     "output_type": "display_data"
    }
   ],
   "source": [
    "options(repr.plot.width=6,repr.plot.height=6)\n",
    "ggplot(data=clubs_laliga) + geom_bar(aes(x=Club,y=Goals),stat='identity',fill='tan4',width=0.65) + \n",
    "scale_y_continuous(breaks=seq(5,25,5)) + coord_flip() + \n",
    "ggtitle('Goals scored per club') + theme_fivethirtyeight(base_size = 8)"
   ]
  },
  {
   "cell_type": "markdown",
   "metadata": {},
   "source": [
    "### Number of goals per match"
   ]
  },
  {
   "cell_type": "code",
   "execution_count": 26,
   "metadata": {},
   "outputs": [
    {
     "name": "stderr",
     "output_type": "stream",
     "text": [
      "`summarise()` regrouping output by 'year', 'month', 'n_day' (override with `.groups` argument)\n"
     ]
    }
   ],
   "source": [
    "#groupingn_goals <- group_by(liga,year,month,n_day,Opponent)\n",
    "#n_goals <- summarise(groupingn_goals,Goals=length(Final.Game.Result))\n",
    "n_goals <- liga %>% group_by(year,month,n_day,Opponent) %>% summarise(Goals=length(Final.Game.Result))\n",
    "n_goals_df <- data.frame(table(n_goals$Goals))\n",
    "colnames(n_goals_df) <- c('N_goals','N_matchs')"
   ]
  },
  {
   "cell_type": "code",
   "execution_count": 27,
   "metadata": {},
   "outputs": [
    {
     "data": {
      "image/png": "[encoded data removed]",
      "text/plain": [
       "plot without title"
      ]
     },
     "metadata": {},
     "output_type": "display_data"
    }
   ],
   "source": [
    "options(repr.plot.width=4,repr.plot.height=3)\n",
    "ggplot(n_goals_df)+ geom_bar(aes(x=N_goals,y=N_matchs),stat ='identity',\n",
    "                              fill='lightpink',colour='lightpink4',width = 0.3) +\n",
    "scale_y_continuous(breaks=seq(10,150,10)) + ggtitle('Number of goals per match') + \n",
    "theme_hc(base_size = 8)"
   ]
  },
  {
   "cell_type": "markdown",
   "metadata": {},
   "source": [
    "### Number of matchs a club received three or more goals "
   ]
  },
  {
   "cell_type": "code",
   "execution_count": 28,
   "metadata": {},
   "outputs": [],
   "source": [
    "clubs <- filter(n_goals,Goals>=3)\n",
    "clubs_liga <- data.frame(sort(table(clubs$Opponent),decreasing=T))\n",
    "colnames(clubs_liga)<- c('Club','N_times')"
   ]
  },
  {
   "cell_type": "code",
   "execution_count": 29,
   "metadata": {},
   "outputs": [
    {
     "data": {
      "image/png": "[encoded data removed]",
      "text/plain": [
       "plot without title"
      ]
     },
     "metadata": {},
     "output_type": "display_data"
    }
   ],
   "source": [
    "options(repr.plot.width=5,repr.plot.height=3.5)\n",
    "ggplot(data=clubs_liga) + geom_bar(aes(x=Club,y=N_times),stat='identity',fill='khaki4',width=.7) + \n",
    "scale_y_continuous(breaks=seq(1,3,1)) + coord_flip() + \n",
    "ggtitle('Number of matchs Messi scored\\n three or more goals per club') + \n",
    "theme_fivethirtyeight(base_size = 7)"
   ]
  },
  {
   "cell_type": "markdown",
   "metadata": {},
   "source": [
    "### Goals per minute"
   ]
  },
  {
   "cell_type": "code",
   "execution_count": 30,
   "metadata": {},
   "outputs": [],
   "source": [
    "minutes_laliga <- data.frame(sort(table(liga$Minute),decreasing = T))\n",
    "colnames(minutes_laliga)<- c('Minute','Goals')"
   ]
  },
  {
   "cell_type": "code",
   "execution_count": 31,
   "metadata": {},
   "outputs": [
    {
     "data": {
      "image/png": "[encoded data removed]",
      "text/plain": [
       "plot without title"
      ]
     },
     "metadata": {},
     "output_type": "display_data"
    }
   ],
   "source": [
    "options(repr.plot.width=8,repr.plot.height=2.5)\n",
    "ggplot(data=minutes_laliga[1:20,]) + geom_bar(aes(x=Minute,y=Goals),stat='identity',fill='springgreen4',width=0.55) + \n",
    "scale_y_continuous(breaks=seq(2,10,2)) + labs(title='Top-20-minute with the most amount of goals') + \n",
    "theme_fivethirtyeight(base_size = 9)"
   ]
  },
  {
   "cell_type": "markdown",
   "metadata": {},
   "source": [
    "### Non-goal minutes"
   ]
  },
  {
   "cell_type": "code",
   "execution_count": 32,
   "metadata": {},
   "outputs": [
    {
     "name": "stdout",
     "output_type": "stream",
     "text": [
      "[1] 1\n",
      "[1] 2\n",
      "[1] 34\n",
      "[1] 69\n",
      "[1] 95\n",
      "[1] 96\n",
      "[1] \"nº of minutes:6\"\n"
     ]
    }
   ],
   "source": [
    "count<- 0\n",
    "for (min in 1:max(liga$Minute)){if(!min %in% liga$Minute){print(min)\n",
    "                                                          count <- count + 1 }}\n",
    "print(paste('nº of minutes',count,sep=':'))"
   ]
  },
  {
   "cell_type": "markdown",
   "metadata": {},
   "source": [
    "### Goals per period of play\n",
    "Goals in the first, second half and in additional time "
   ]
  },
  {
   "cell_type": "code",
   "execution_count": 33,
   "metadata": {},
   "outputs": [],
   "source": [
    "period <- rep(0,3)\n",
    "for (min in liga$Minute){if(min<45){ period[1] <- period[1]+1} \n",
    "                         else {if(89 < min){period[3]<- period[3]+1}\n",
    "                               else {period[2]<- period[2]+1} } \n",
    "                        }  \n",
    "goals_period <- data.frame('Period'=c('First half','Second half','Extra time'),'Goals'=period)\n",
    "goals_period = arrange(goals_period,desc(Period))\n",
    "goals_period$porcentage <- round(goals_period$Goals*100/sum(goals_period$Goals))\n",
    "goals_period$position = cumsum(goals_period$porcentage) - goals_period$porcentage/2\n",
    "goals_period$label <- paste(goals_period$porcentage,\"%\")"
   ]
  },
  {
   "cell_type": "code",
   "execution_count": 34,
   "metadata": {},
   "outputs": [
    {
     "data": {
      "image/png": "[encoded data removed]",
      "text/plain": [
       "plot without title"
      ]
     },
     "metadata": {},
     "output_type": "display_data"
    }
   ],
   "source": [
    "options(repr.plot.width=6,repr.plot.height=3.5)\n",
    "ggplot(goals_period) + geom_bar(aes(x=\"\",y=porcentage,fill=Period),col='white',stat = \"identity\") +\n",
    "coord_polar(theta=\"y\",start=0) + theme_void() + ggtitle('Goals per period of play') + \n",
    "theme(plot.title= element_text(hjust = 0.5,face = 'bold',family = 'Segoe Script',size=13),\n",
    "      plot.margin = margin(1,1,1,1, \"cm\"),text=element_text(size=12,family='MV Boli')) +\n",
    "geom_text(aes(x=1.15,y = position , label = label), col='white',size=2.5,fontface =2,family='Calibri') +\n",
    "scale_fill_brewer(palette=\"Set2\") + theme(legend.title=element_blank())"
   ]
  },
  {
   "cell_type": "markdown",
   "metadata": {},
   "source": [
    "### Goals per month"
   ]
  },
  {
   "cell_type": "code",
   "execution_count": 35,
   "metadata": {},
   "outputs": [],
   "source": [
    "months <- table(liga$month)\n",
    "df_months <- data.frame(months)\n",
    "colnames(df_months) <- c('Month','Goals')\n",
    "#Setting the hierarchy by sequence order\n",
    "months_ord <- c('January','February','March','April','May','June','July','August','September','October',\n",
    "                'November','December')\n",
    "df_months$Month <- factor(df_months$Month,levels=months_ord)\n",
    "df_months <- rbind(df_months,c('July','0'))\n",
    "df_months$Goals <- as.numeric(df_months$Goals)"
   ]
  },
  {
   "cell_type": "code",
   "execution_count": 36,
   "metadata": {},
   "outputs": [
    {
     "data": {
      "image/png": "[encoded data removed]",
      "text/plain": [
       "plot without title"
      ]
     },
     "metadata": {},
     "output_type": "display_data"
    }
   ],
   "source": [
    "options(repr.plot.width=9,repr.plot.height=3.5)\n",
    "ggplot(df_months)+ geom_bar(aes(x=Month,y=Goals),stat='identity',fill='thistle',colour='thistle4',width=0.8) + \n",
    "scale_y_continuous(breaks=seq(5,60,5))+ labs(x='',title='Goals per month') + theme_hc() +\n",
    "theme(plot.title= element_text(hjust = 0.5,face = 'bold',family = 'Segoe Script',size=13),\n",
    "      plot.margin = margin(1,1,1,1, \"cm\"), axis.text.x=element_text(size=6))"
   ]
  },
  {
   "cell_type": "markdown",
   "metadata": {},
   "source": [
    "## Goals per day of the week"
   ]
  },
  {
   "cell_type": "code",
   "execution_count": 37,
   "metadata": {},
   "outputs": [],
   "source": [
    "days <- table(liga$day)\n",
    "df_days <- data.frame(days)\n",
    "colnames(df_days) <- c('Day','Goals')\n",
    "#Setting the hierarchy by sequence order\n",
    "days_ord <- c('Monday','Thuesday','Wednesday','Thursday','Friday','Saturday','Sunday')\n",
    "df_days$Day <- factor(df_days$Day,levels=days_ord)\n",
    "df_days <- rbind(df_days,c('Friday','0'))\n",
    "df_days$Goals <- as.numeric(df_days$Goals)"
   ]
  },
  {
   "cell_type": "code",
   "execution_count": 38,
   "metadata": {},
   "outputs": [
    {
     "data": {
      "image/png": "[encoded data removed]",
      "text/plain": [
       "plot without title"
      ]
     },
     "metadata": {},
     "output_type": "display_data"
    }
   ],
   "source": [
    "options(repr.plot.width=9,repr.plot.height=3.5)\n",
    "ggplot(df_days)+ geom_bar(aes(x=Day,y=Goals),stat='identity',fill='lightcyan',colour='lightcyan4',width=0.5) + \n",
    "scale_y_continuous(breaks=seq(20,200,20))+ labs(x='',title='Goals per day of the week') + theme_hc() +\n",
    "theme(plot.title= element_text(hjust = 0.5,face = 'bold',family = 'Segoe Script',size=13),\n",
    "      plot.margin = margin(1,1,1,1, \"cm\"), axis.text.x=element_text(size=8))"
   ]
  },
  {
   "cell_type": "markdown",
   "metadata": {},
   "source": [
    "### Type of goal"
   ]
  },
  {
   "cell_type": "code",
   "execution_count": 39,
   "metadata": {},
   "outputs": [],
   "source": [
    "type_goal <- table(liga$Goal.Type,exclude= NULL)\n",
    "rownames(type_goal)[6] <- \"Unknown\"\n",
    "type_goal <- data.frame(type_goal)\n",
    "colnames(type_goal) <- c('Type_of_goal','Goals')\n",
    "type_goal = arrange(type_goal,desc(Type_of_goal))\n",
    "type_goal$porcentage <- round(type_goal$Goals*100/sum(type_goal$Goals))\n",
    "type_goal$position = cumsum(type_goal$porcentage) - type_goal$porcentage/2\n",
    "type_goal$label <- paste(type_goal$porcentage,\"%\")"
   ]
  },
  {
   "cell_type": "code",
   "execution_count": 40,
   "metadata": {},
   "outputs": [
    {
     "data": {
      "image/png": "[encoded data removed]",
      "text/plain": [
       "plot without title"
      ]
     },
     "metadata": {},
     "output_type": "display_data"
    }
   ],
   "source": [
    "options(repr.plot.width=8,repr.plot.height=4)\n",
    "ggplot(type_goal) + geom_bar(aes(x=\"\",y=porcentage,fill=Type_of_goal),col='white',stat = \"identity\") +\n",
    "coord_polar(theta=\"y\",start=0) + theme_void() + ggtitle('Type of goal') + \n",
    "theme(plot.title= element_text(hjust = 0.5,face = 'bold',family = 'Segoe Script',size=13),\n",
    "      plot.margin = margin(1,1,1,1, \"cm\"),text=element_text(size=12,family='MV Boli')) +\n",
    "geom_text(aes(x=1.6,y = position , label = label), col='black',size=3.5,fontface =2,family='Calibri') +\n",
    "geom_segment(aes(x = 1.44, y = position, xend = 1.47, yend = position))+\n",
    "scale_fill_brewer(palette=\"Set2\") + theme(legend.title=element_blank())"
   ]
  },
  {
   "cell_type": "markdown",
   "metadata": {},
   "source": [
    "### Global analysis"
   ]
  },
  {
   "cell_type": "code",
   "execution_count": 41,
   "metadata": {},
   "outputs": [],
   "source": [
    "#Changing to factors\n",
    "liga$Goal.Method <- as.factor(liga$Goal.Method)\n",
    "liga$day<- as.factor(liga$day)\n",
    "liga$month <- as.factor(liga$month)\n",
    "liga$Final.Game.Result<- as.factor(liga$Final.Game.Result)"
   ]
  },
  {
   "cell_type": "code",
   "execution_count": 42,
   "metadata": {},
   "outputs": [
    {
     "data": {
      "image/png": "[encoded data removed]",
      "text/plain": [
       "plot without title"
      ]
     },
     "metadata": {},
     "output_type": "display_data"
    }
   ],
   "source": [
    "dataset <- liga[,c(5,9,10,11,13)]\n",
    "tree <- ctree(Final.Game.Result ~.,data= dataset)\n",
    "plot(tree, main= \"Final-game-result Decision Tree\")"
   ]
  },
  {
   "cell_type": "markdown",
   "metadata": {},
   "source": [
    "**Conclusions:**\n",
    "- There is no a relationship between the victory of Barcelona F.C. and the rest of the attributes \n",
    "- His favourite day to score goals is on Saturdays\n",
    "- He fells more comfortable scoring on second halfs"
   ]
  },
  {
   "cell_type": "markdown",
   "metadata": {},
   "source": [
    "<div id=\"2\"> </div>\n",
    "\n",
    "## Performance in The Champions League\n",
    "![](https://i.pinimg.com/736x/4e/e8/e9/4ee8e9139110201b6e17ac878d1250fd.jpg)"
   ]
  },
  {
   "cell_type": "code",
   "execution_count": 43,
   "metadata": {},
   "outputs": [],
   "source": [
    "champion <- filter(data,Competition.Name == 'Champions League')"
   ]
  },
  {
   "cell_type": "markdown",
   "metadata": {},
   "source": [
    "### Goals scored per club"
   ]
  },
  {
   "cell_type": "code",
   "execution_count": 44,
   "metadata": {},
   "outputs": [],
   "source": [
    "clubs_lachampion <- data.frame(sort(table(champion$Opponent),decreasing = T))\n",
    "colnames(clubs_lachampion) <- c('Club','Goals')"
   ]
  },
  {
   "cell_type": "code",
   "execution_count": 45,
   "metadata": {},
   "outputs": [
    {
     "data": {
      "image/png": "[encoded data removed]",
      "text/plain": [
       "plot without title"
      ]
     },
     "metadata": {},
     "output_type": "display_data"
    }
   ],
   "source": [
    "options(repr.plot.width=5,repr.plot.height=4.5)\n",
    "ggplot(data=clubs_lachampion) + geom_bar(aes(x=Club,y=Goals),stat='identity',fill='tan4') + \n",
    "scale_y_continuous(breaks=seq(2,10,2)) + labs(title=\"Goals scored per club\") + coord_flip() + \n",
    "theme_fivethirtyeight(base_size = 8)"
   ]
  },
  {
   "cell_type": "markdown",
   "metadata": {},
   "source": [
    "### Number of goals per match"
   ]
  },
  {
   "cell_type": "code",
   "execution_count": 46,
   "metadata": {},
   "outputs": [
    {
     "name": "stderr",
     "output_type": "stream",
     "text": [
      "`summarise()` regrouping output by 'year', 'month', 'n_day' (override with `.groups` argument)\n"
     ]
    }
   ],
   "source": [
    "#groupingn_goals <- group_by(champion,year,month,n_day,Opponent)\n",
    "#n_goals <- summarise(groupingn_goals,Goals=length(Final.Game.Result))\n",
    "n_goals <- champion %>% group_by(year,month,n_day,Opponent) %>% summarise(Goals=length(Final.Game.Result))\n",
    "n_goals_df <- data.frame(table(n_goals$Goals))\n",
    "n_goals_df <- data.frame(table(n_goals$Goals))\n",
    "colnames(n_goals_df) <- c('N_goals','N_matchs')"
   ]
  },
  {
   "cell_type": "code",
   "execution_count": 47,
   "metadata": {},
   "outputs": [
    {
     "data": {
      "image/png": "[encoded data removed]",
      "text/plain": [
       "plot without title"
      ]
     },
     "metadata": {},
     "output_type": "display_data"
    }
   ],
   "source": [
    "options(repr.plot.width=4,repr.plot.height=2)\n",
    "ggplot(n_goals_df)+ geom_bar(aes(x=N_goals,y=N_matchs),stat = 'identity',fill='lightpink',\n",
    "                             colour='lightpink4',width = 0.3) +\n",
    "scale_y_continuous(breaks=seq(10,150,10)) +\n",
    "ggtitle('Number of goals per match') + theme_hc(base_size = 8)"
   ]
  },
  {
   "cell_type": "markdown",
   "metadata": {},
   "source": [
    "### Number of matchs Messi scored three or more goals per club "
   ]
  },
  {
   "cell_type": "code",
   "execution_count": 48,
   "metadata": {},
   "outputs": [],
   "source": [
    "clubs <- filter(n_goals,Goals>=3)\n",
    "clubs_df <- data.frame(sort(table(clubs$Opponent),decreasing=T))\n",
    "colnames(clubs_df)<- c('Club','N_times')"
   ]
  },
  {
   "cell_type": "code",
   "execution_count": 49,
   "metadata": {},
   "outputs": [
    {
     "data": {
      "image/png": "[encoded data removed]",
      "text/plain": [
       "plot without title"
      ]
     },
     "metadata": {},
     "output_type": "display_data"
    }
   ],
   "source": [
    "options(repr.plot.width=4,repr.plot.height=3.5)\n",
    "ggplot(data=clubs_df) + geom_bar(aes(x=Club,y=N_times),stat='identity',fill='khaki4',width=0.5) + \n",
    "scale_y_continuous(breaks=seq(1,3,1)) + coord_flip() + \n",
    "ggtitle('Number of matchs Messi scored\\n three or more goals per club') + \n",
    "theme_fivethirtyeight(base_size = 7.75)"
   ]
  },
  {
   "cell_type": "markdown",
   "metadata": {},
   "source": [
    "### Goals per minute"
   ]
  },
  {
   "cell_type": "code",
   "execution_count": 50,
   "metadata": {},
   "outputs": [],
   "source": [
    "minutes_lachampion <- data.frame(sort(table(champion$Minute),decreasing = T))\n",
    "colnames(minutes_lachampion)<- c('Minute','Goals')"
   ]
  },
  {
   "cell_type": "code",
   "execution_count": 51,
   "metadata": {},
   "outputs": [
    {
     "data": {
      "image/png": "[encoded data removed]",
      "text/plain": [
       "plot without title"
      ]
     },
     "metadata": {},
     "output_type": "display_data"
    }
   ],
   "source": [
    "options(repr.plot.width=8,repr.plot.height=2.5)\n",
    "ggplot(data=minutes_lachampion[1:20,]) + \n",
    "geom_bar(aes(x=Minute,y=Goals),stat='identity',fill='springgreen4',width=0.55) + \n",
    "scale_y_continuous(breaks=seq(2,4,1))+labs(title='Top-20-minute with the most amount of goals') + \n",
    "theme_fivethirtyeight(base_size = 9)"
   ]
  },
  {
   "cell_type": "markdown",
   "metadata": {},
   "source": [
    "### Non-goal minutes"
   ]
  },
  {
   "cell_type": "code",
   "execution_count": 52,
   "metadata": {},
   "outputs": [
    {
     "name": "stdout",
     "output_type": "stream",
     "text": [
      "[1] 1\n",
      "[1] 2\n",
      "[1] 6\n",
      "[1] 7\n",
      "[1] 8\n",
      "[1] 10\n",
      "[1] 12\n",
      "[1] 14\n",
      "[1] 15\n",
      "[1] 28\n",
      "[1] 29\n",
      "[1] 33\n",
      "[1] 35\n",
      "[1] 44\n",
      "[1] 46\n",
      "[1] 47\n",
      "[1] 51\n",
      "[1] 52\n",
      "[1] 53\n",
      "[1] 57\n",
      "[1] 64\n",
      "[1] 65\n",
      "[1] 66\n",
      "[1] 68\n",
      "[1] 72\n",
      "[1] 73\n",
      "[1] 74\n",
      "[1] 78\n",
      "[1] 81\n",
      "[1] 82\n",
      "[1] 85\n",
      "[1] 93\n",
      "[1] \"nº of minutes:32\"\n"
     ]
    }
   ],
   "source": [
    "count<- 0\n",
    "for (min in 1:max(champion$Minute)){if(!min %in% champion$Minute){print(min)\n",
    "                                                                 count <- count + 1 }}\n",
    "print(paste('nº of minutes',count,sep=':'))"
   ]
  },
  {
   "cell_type": "markdown",
   "metadata": {},
   "source": [
    "### Goals per period of play\n",
    "Goals in the first, second half and in additional time"
   ]
  },
  {
   "cell_type": "code",
   "execution_count": 53,
   "metadata": {},
   "outputs": [],
   "source": [
    "period <- rep(0,3)\n",
    "for (min in champion$Minute){if(min<45){ period[1] <- period[1]+1} \n",
    "                             else {if(89 < min){period[3]<- period[3]+1}\n",
    "                                   else {period[2]<- period[2]+1} } \n",
    "                            }  \n",
    "goals_period <- data.frame('Period'=c('First half','Second half','Extra time'),'Goals'=period)\n",
    "goals_period = arrange(goals_period,desc(Period))\n",
    "goals_period$porcentage <- round(goals_period$Goals*100/sum(goals_period$Goals))\n",
    "goals_period$position = cumsum(goals_period$porcentage) - goals_period$porcentage/2\n",
    "goals_period$label <- paste(goals_period$porcentage,\"%\")"
   ]
  },
  {
   "cell_type": "code",
   "execution_count": 54,
   "metadata": {},
   "outputs": [
    {
     "data": {
      "image/png": "[encoded data removed]",
      "text/plain": [
       "plot without title"
      ]
     },
     "metadata": {},
     "output_type": "display_data"
    }
   ],
   "source": [
    "options(repr.plot.width=8,repr.plot.height=4)\n",
    "ggplot(goals_period) + geom_bar(aes(x=\"\",y=porcentage,fill=Period),col='white',stat = \"identity\") +\n",
    "coord_polar(theta=\"y\",start=0) + theme_void() + ggtitle('Goals per period of play') + \n",
    "theme(plot.title= element_text(hjust = 0.5,face = 'bold',family = 'Segoe Script',size=13),\n",
    "      plot.margin = margin(1,1,1,1, \"cm\"),text=element_text(size=12,family='MV Boli')) +\n",
    "geom_text(aes(x=1.22,y = position , label = label), col='white',size=3.25,fontface =2,family='Calibri') +\n",
    "scale_fill_brewer(palette=\"Set2\") + theme(legend.title=element_blank())"
   ]
  },
  {
   "cell_type": "markdown",
   "metadata": {},
   "source": [
    "### Goals per month"
   ]
  },
  {
   "cell_type": "code",
   "execution_count": 55,
   "metadata": {},
   "outputs": [],
   "source": [
    "months <- table(champion$month)\n",
    "df_months <- data.frame(months)\n",
    "colnames(df_months) <- c('Month','Goals')\n",
    "df_months$Month <- factor(df_months$Month,levels=months_ord)\n",
    "df_months <- rbind(df_months,c('June','0'))\n",
    "df_months <- rbind(df_months,c('July','0'))\n",
    "df_months <- rbind(df_months,c('August','0'))\n",
    "df_months$Goals <- as.numeric(df_months$Goals)"
   ]
  },
  {
   "cell_type": "code",
   "execution_count": 56,
   "metadata": {},
   "outputs": [
    {
     "data": {
      "image/png": "[encoded data removed]",
      "text/plain": [
       "plot without title"
      ]
     },
     "metadata": {},
     "output_type": "display_data"
    }
   ],
   "source": [
    "options(repr.plot.width=9,repr.plot.height=3)\n",
    "ggplot(df_months)+ geom_bar(aes(x=Month,y=Goals),stat='identity',fill='thistle',colour='thistle4',width=0.8)+ \n",
    "scale_y_continuous(breaks=seq(5,30,5))+ labs(x='',title='Goals per month') + theme_hc() +\n",
    "theme(plot.title= element_text(hjust = 0.5,face = 'bold',family = 'Segoe Script',size=13),\n",
    "      plot.margin = margin(1,1,1,1, \"cm\"),axis.text.x=element_text(size=6))"
   ]
  },
  {
   "cell_type": "markdown",
   "metadata": {},
   "source": [
    "### Goals per day of the week"
   ]
  },
  {
   "cell_type": "code",
   "execution_count": 57,
   "metadata": {},
   "outputs": [],
   "source": [
    "days <- table(champion$day)\n",
    "df_days <- data.frame(days)\n",
    "colnames(df_days) <- c('Day','Goals')\n",
    "df_days$Day <- factor(df_days$Day,levels=days_ord)\n",
    "df_days <- rbind(df_days,c('Monday','0'))\n",
    "df_days <- rbind(df_days,c('Thursday','0'))\n",
    "df_days <- rbind(df_days,c('Friday','0'))\n",
    "df_days <- rbind(df_days,c('Sunday','0'))\n",
    "df_days$Goals <- as.numeric(df_days$Goals)"
   ]
  },
  {
   "cell_type": "code",
   "execution_count": 58,
   "metadata": {},
   "outputs": [
    {
     "data": {
      "image/png": "[encoded data removed]",
      "text/plain": [
       "plot without title"
      ]
     },
     "metadata": {},
     "output_type": "display_data"
    }
   ],
   "source": [
    "options(repr.plot.width=9,repr.plot.height=2.75)\n",
    "ggplot(df_days)+ geom_bar(aes(x=Day,y=Goals),stat='identity',fill='lightcyan',colour='lightcyan4',width=0.5)+ \n",
    "scale_y_continuous(breaks=seq(10,60,10))+ \n",
    "labs(x='',title='Goals per day of the week') + theme_hc() +\n",
    "theme(plot.title= element_text(hjust = 0.5,face = 'bold',family = 'Segoe Script',size=13),\n",
    "      plot.margin = margin(1,1,1,1, \"cm\"),axis.text.x=element_text(size=8))"
   ]
  },
  {
   "cell_type": "markdown",
   "metadata": {},
   "source": [
    "### Type of goal"
   ]
  },
  {
   "cell_type": "code",
   "execution_count": 59,
   "metadata": {},
   "outputs": [],
   "source": [
    "type_goal <- table(champion$Goal.Type,exclude= NULL)\n",
    "rownames(type_goal)[6] <- \"Unknown\"\n",
    "type_goal <- data.frame(type_goal)\n",
    "colnames(type_goal) <- c('Type_of_goal','Goals')\n",
    "type_goal = arrange(type_goal,desc(Type_of_goal))\n",
    "type_goal$porcentage <- round(type_goal$Goals*100/sum(type_goal$Goals))\n",
    "type_goal$position = cumsum(type_goal$porcentage) - type_goal$porcentage/2\n",
    "type_goal$label <- paste(type_goal$porcentage,\"%\")"
   ]
  },
  {
   "cell_type": "code",
   "execution_count": 60,
   "metadata": {},
   "outputs": [
    {
     "data": {
      "image/png": "[encoded data removed]",
      "text/plain": [
       "plot without title"
      ]
     },
     "metadata": {},
     "output_type": "display_data"
    }
   ],
   "source": [
    "options(repr.plot.width=8,repr.plot.height=4)\n",
    "ggplot(type_goal) + geom_bar(aes(x=\"\",y=porcentage,fill=Type_of_goal),col='white',stat = \"identity\") +\n",
    "coord_polar(theta=\"y\",start=0) + theme_void() + ggtitle('Type of goal') + \n",
    "theme(plot.title= element_text(hjust = 0.5,face = 'bold',family = 'Segoe Script',size=13),\n",
    "      plot.margin = margin(1,1,1,1, \"cm\"),text=element_text(size=12,family='MV Boli')) +\n",
    "geom_text(aes(x=1.6,y = position , label = label), col='black',size=3.5,fontface =2,family='Calibri') +\n",
    "geom_segment(aes(x = 1.44, y = position, xend = 1.47, yend = position))+\n",
    "scale_fill_brewer(palette=\"Set2\") + theme(legend.title=element_blank())"
   ]
  },
  {
   "cell_type": "markdown",
   "metadata": {},
   "source": [
    "### Global analysis"
   ]
  },
  {
   "cell_type": "code",
   "execution_count": 61,
   "metadata": {},
   "outputs": [],
   "source": [
    "#Changing to factors\n",
    "champion$Goal.Method <- as.factor(champion$Goal.Method)\n",
    "champion$day<- as.factor(champion$day)\n",
    "champion$month <- as.factor(champion$month)\n",
    "champion$Final.Game.Result<- as.factor(champion$Final.Game.Result)"
   ]
  },
  {
   "cell_type": "code",
   "execution_count": 62,
   "metadata": {},
   "outputs": [
    {
     "data": {
      "image/png": "[encoded data removed]",
      "text/plain": [
       "plot without title"
      ]
     },
     "metadata": {},
     "output_type": "display_data"
    }
   ],
   "source": [
    "dataset <- champion[,c(5,9,10,11,13)]\n",
    "tree <- ctree(Final.Game.Result ~.,data= dataset)\n",
    "plot(tree, main= \"Final-game-result Decision Tree\")"
   ]
  },
  {
   "cell_type": "markdown",
   "metadata": {},
   "source": [
    "**Conclusions:**\n",
    "- On the same way regarding La Liga competition, there in no a relationship between the victory of Messi's team and the rest of the attributes.\n",
    "- There in no a clear dependency on scoring goals by the period of play"
   ]
  }
 ],
 "metadata": {
  "kernelspec": {
   "display_name": "R",
   "language": "R",
   "name": "ir"
  },
  "language_info": {
   "codemirror_mode": "r",
   "file_extension": ".r",
   "mimetype": "text/x-r-source",
   "name": "R",
   "pygments_lexer": "r",
   "version": "3.6.1"
  }
 },
 "nbformat": 4,
 "nbformat_minor": 2
}
